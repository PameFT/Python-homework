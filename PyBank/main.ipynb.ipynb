{
 "cells": [
  {
   "cell_type": "code",
   "execution_count": 360,
   "metadata": {},
   "outputs": [],
   "source": [
    "import pandas as pd"
   ]
  },
  {
   "cell_type": "code",
   "execution_count": 361,
   "metadata": {},
   "outputs": [],
   "source": [
    "import numpy as np\n",
    "import numpy_financial as npf\n",
    "from pathlib import Path"
   ]
  },
  {
   "cell_type": "code",
   "execution_count": 362,
   "metadata": {},
   "outputs": [],
   "source": [
    "#create a path for file\n",
    "\n",
    "csvpath = Path('budget_data.csv')"
   ]
  },
  {
   "cell_type": "code",
   "execution_count": 363,
   "metadata": {},
   "outputs": [],
   "source": [
    "#set the output of the text file\n",
    "text_path = \"file.txt\""
   ]
  },
  {
   "cell_type": "code",
   "execution_count": 364,
   "metadata": {},
   "outputs": [],
   "source": [
    "#variables\n",
    "total_months = 0\n",
    "total_profit = 0\n",
    "profit = []\n",
    "previous_profit = 0\n",
    "month_of_change = []\n",
    "profit_change = 0\n",
    "greatest_decrease = [\"\", 9999999]\n",
    "greatest_increase = [\"\", 0]\n",
    "profit_change_list = []\n",
    "profit_average = 0"
   ]
  },
  {
   "cell_type": "code",
   "execution_count": 365,
   "metadata": {},
   "outputs": [],
   "source": [
    "#Read the CSV file into Dataframe in Pandas\n",
    "\n",
    "budget_data = pd.read_csv(csvpath)"
   ]
  },
  {
   "cell_type": "code",
   "execution_count": 366,
   "metadata": {},
   "outputs": [],
   "source": [
    "#The total number of months included in the dataset.\n",
    "\n",
    "for row in budget_data:\n",
    "        total_months = budget_data['Date'].count()"
   ]
  },
  {
   "cell_type": "code",
   "execution_count": 367,
   "metadata": {},
   "outputs": [],
   "source": [
    "#The net total amount of Profit/Losses over the entire period\n",
    "for column in budget_data:\n",
    "        total_profit = budget_data['Profit/Losses'].sum()"
   ]
  },
  {
   "cell_type": "code",
   "execution_count": 368,
   "metadata": {},
   "outputs": [],
   "source": [
    "#The average of the changes in Profit/Losses over the entire period\n",
    "for i in budget_data:\n",
    "        profit_change = budget_data['Profit/Losses'].diff(1)\n",
    "        profit_average = np.mean(profit_change)"
   ]
  },
  {
   "cell_type": "code",
   "execution_count": 369,
   "metadata": {},
   "outputs": [],
   "source": [
    "#The greatest increase in profits (date and amount) over the entire period\n",
    "\n",
    "greatest_increase = budget_data['Profit/Losses'].diff(1).max()"
   ]
  },
  {
   "cell_type": "code",
   "execution_count": 370,
   "metadata": {},
   "outputs": [],
   "source": [
    "#The greatest decrease in losses (date and amount) over the entire period\n",
    "\n",
    "greatest_decrease = budget_data['Profit/Losses'].diff(1).min()"
   ]
  },
  {
   "cell_type": "code",
   "execution_count": 371,
   "metadata": {},
   "outputs": [],
   "source": [
    "#Print the final analysis\n",
    "output = (\n",
    "    f\"Financial Analysis\\n\"\n",
    "    f\"---------------------\\n\"\n",
    "    f\"Total Months: {total_months}\\n\"\n",
    "    f\"Total: ${total_profit:,}\\n\"\n",
    "    f\"Average Change: ${profit_average:,.2f}\\n\"\n",
    "    f\"Greatest Increase in Profits: ${greatest_increase:,}\\n\"\n",
    "    f\"Greatest Decrease in Profits: ${greatest_decrease:,}\\n\")"
   ]
  },
  {
   "cell_type": "code",
   "execution_count": 372,
   "metadata": {},
   "outputs": [
    {
     "name": "stdout",
     "output_type": "stream",
     "text": [
      "Financial Analysis\n",
      "---------------------\n",
      "Total Months: 86\n",
      "Total: $38,382,578\n",
      "Average Change: $-2,315.12\n",
      "Greatest Increase in Profits: $1,926,159.0\n",
      "Greatest Decrease in Profits: $-2,196,167.0\n",
      "\n"
     ]
    }
   ],
   "source": [
    "# Print the output (to terminal)\n",
    "print(output)\n",
    "\n",
    "# Export the results to text file\n",
    "with open(text_path, \"w\") as file:\n",
    "    file.write(output)"
   ]
  }
 ],
 "metadata": {
  "kernelspec": {
   "display_name": "Python 3",
   "language": "python",
   "name": "python3"
  },
  "language_info": {
   "codemirror_mode": {
    "name": "ipython",
    "version": 3
   },
   "file_extension": ".py",
   "mimetype": "text/x-python",
   "name": "python",
   "nbconvert_exporter": "python",
   "pygments_lexer": "ipython3",
   "version": "3.7.9"
  }
 },
 "nbformat": 4,
 "nbformat_minor": 4
}
